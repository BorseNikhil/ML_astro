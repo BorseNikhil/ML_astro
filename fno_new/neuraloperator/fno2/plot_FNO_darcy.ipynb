{
 "cells": [
  {
   "cell_type": "markdown",
   "metadata": {},
   "source": [
    "\n",
    "# Training a TFNO on Darcy-Flow\n",
    "\n",
    "In this example, we demonstrate how to use the small Darcy-Flow example we ship with the package\n",
    "to train a Tensorized Fourier-Neural Operator\n"
   ]
  },
  {
   "cell_type": "code",
   "execution_count": 70,
   "metadata": {},
   "outputs": [],
   "source": [
    "import torch\n",
    "import matplotlib.pyplot as plt\n",
    "import sys\n",
    "from neuralop.models import TFNO\n",
    "from neuralop import Trainer\n",
    "from neuralop.datasets import load_darcy_flow_small\n",
    "from neuralop.utils import count_params\n",
    "from neuralop import LpLoss, H1Loss\n",
    "\n",
    "device = 'cpu'"
   ]
  },
  {
   "cell_type": "markdown",
   "metadata": {},
   "source": [
    "Loading the Navier-Stokes dataset in 128x128 resolution\n",
    "\n"
   ]
  },
  {
   "cell_type": "code",
   "execution_count": 71,
   "metadata": {},
   "outputs": [
    {
     "name": "stdout",
     "output_type": "stream",
     "text": [
      "UnitGaussianNormalizer init on 1000, reducing over [0, 1, 2, 3], samples of shape [1, 16, 16].\n",
      "   Mean and std of shape torch.Size([1, 1, 1]), eps=1e-05\n",
      "Loading test db at resolution 32 with 50 samples and batch-size=32\n"
     ]
    }
   ],
   "source": [
    "train_loader, test_loaders, output_encoder = load_darcy_flow_small(\n",
    "        n_train=1000, batch_size=32, \n",
    "        test_resolutions=[16, 32], n_tests=[100, 50],\n",
    "        test_batch_sizes=[32, 32],\n",
    ")"
   ]
  },
  {
   "cell_type": "markdown",
   "metadata": {},
   "source": [
    "We create a tensorized FNO model\n",
    "\n"
   ]
  },
  {
   "cell_type": "code",
   "execution_count": 72,
   "metadata": {},
   "outputs": [
    {
     "name": "stdout",
     "output_type": "stream",
     "text": [
      "\n",
      "Our model has 393665 parameters.\n"
     ]
    }
   ],
   "source": [
    "model = TFNO(n_modes=(16, 16), hidden_channels=32, projection_channels=64, factorization='tucker', rank=0.42)\n",
    "model = model.to(device)\n",
    "\n",
    "n_params = count_params(model)\n",
    "print(f'\\nOur model has {n_params} parameters.')\n",
    "sys.stdout.flush()"
   ]
  },
  {
   "cell_type": "markdown",
   "metadata": {},
   "source": [
    "Create the optimizer\n",
    "\n"
   ]
  },
  {
   "cell_type": "code",
   "execution_count": 73,
   "metadata": {},
   "outputs": [],
   "source": [
    "optimizer = torch.optim.Adam(model.parameters(), \n",
    "                                lr=8e-3, \n",
    "                                weight_decay=1e-4)\n",
    "scheduler = torch.optim.lr_scheduler.CosineAnnealingLR(optimizer, T_max=30)"
   ]
  },
  {
   "cell_type": "markdown",
   "metadata": {},
   "source": [
    "Creating the losses\n",
    "\n"
   ]
  },
  {
   "cell_type": "code",
   "execution_count": 74,
   "metadata": {},
   "outputs": [],
   "source": [
    "l2loss = LpLoss(d=2, p=2)\n",
    "h1loss = H1Loss(d=2)\n",
    "\n",
    "train_loss = h1loss\n",
    "eval_losses={'h1': h1loss, 'l2': l2loss}"
   ]
  },
  {
   "cell_type": "code",
   "execution_count": 75,
   "metadata": {},
   "outputs": [
    {
     "name": "stdout",
     "output_type": "stream",
     "text": [
      "\n",
      "### MODEL ###\n",
      " TFNO(\n",
      "  (fno_blocks): FNOBlocks(\n",
      "    (convs): FactorizedSpectralConv(\n",
      "      (weight): ModuleList(\n",
      "        (0-7): 8 x ComplexTuckerTensor(shape=(32, 32, 8, 8), rank=(25, 25, 6, 6))\n",
      "      )\n",
      "    )\n",
      "    (fno_skips): ModuleList(\n",
      "      (0-3): 4 x Conv2d(32, 32, kernel_size=(1, 1), stride=(1, 1), bias=False)\n",
      "    )\n",
      "  )\n",
      "  (lifting): Lifting(\n",
      "    (fc): Conv2d(3, 32, kernel_size=(1, 1), stride=(1, 1))\n",
      "  )\n",
      "  (projection): Projection(\n",
      "    (fc1): Conv2d(32, 64, kernel_size=(1, 1), stride=(1, 1))\n",
      "    (fc2): Conv2d(64, 1, kernel_size=(1, 1), stride=(1, 1))\n",
      "  )\n",
      ")\n",
      "\n",
      "### OPTIMIZER ###\n",
      " Adam (\n",
      "Parameter Group 0\n",
      "    amsgrad: False\n",
      "    betas: (0.9, 0.999)\n",
      "    capturable: False\n",
      "    differentiable: False\n",
      "    eps: 1e-08\n",
      "    foreach: None\n",
      "    fused: None\n",
      "    initial_lr: 0.008\n",
      "    lr: 0.008\n",
      "    maximize: False\n",
      "    weight_decay: 0.0001\n",
      ")\n",
      "\n",
      "### SCHEDULER ###\n",
      " <torch.optim.lr_scheduler.CosineAnnealingLR object at 0x7f15c84928e0>\n",
      "\n",
      "### LOSSES ###\n",
      "\n",
      " * Train: <neuralop.training.losses.H1Loss object at 0x7f15c849c0a0>\n",
      "\n",
      " * Test: {'h1': <neuralop.training.losses.H1Loss object at 0x7f15c849c0a0>, 'l2': <neuralop.training.losses.LpLoss object at 0x7f15c849c730>}\n"
     ]
    }
   ],
   "source": [
    "print('\\n### MODEL ###\\n', model)\n",
    "print('\\n### OPTIMIZER ###\\n', optimizer)\n",
    "print('\\n### SCHEDULER ###\\n', scheduler)\n",
    "print('\\n### LOSSES ###')\n",
    "print(f'\\n * Train: {train_loss}')\n",
    "print(f'\\n * Test: {eval_losses}')\n",
    "sys.stdout.flush()"
   ]
  },
  {
   "cell_type": "markdown",
   "metadata": {},
   "source": [
    "Create the trainer\n",
    "\n"
   ]
  },
  {
   "cell_type": "code",
   "execution_count": 76,
   "metadata": {},
   "outputs": [
    {
     "name": "stdout",
     "output_type": "stream",
     "text": [
      "Training on regular inputs (no multi-grid patching).\n"
     ]
    }
   ],
   "source": [
    "trainer = Trainer(model, n_epochs=20,\n",
    "                  device=device,\n",
    "                  mg_patching_levels=0,\n",
    "                  wandb_log=False,\n",
    "                  log_test_interval=3,\n",
    "                  use_distributed=False,\n",
    "                  verbose=True)"
   ]
  },
  {
   "cell_type": "markdown",
   "metadata": {},
   "source": [
    "Actually train the model on our small Darcy-Flow dataset\n",
    "\n"
   ]
  },
  {
   "cell_type": "code",
   "execution_count": 77,
   "metadata": {},
   "outputs": [
    {
     "name": "stdout",
     "output_type": "stream",
     "text": [
      "Training on 1000 samples\n",
      "Testing on [50, 50] samples         on resolutions [16, 32].\n",
      "Training on raw inputs of size x.shape=torch.Size([32, 3, 16, 16]), y.shape=torch.Size([32, 1, 16, 16])\n",
      ".. patched inputs of size x.shape=torch.Size([32, 3, 16, 16]), y.shape=torch.Size([32, 1, 16, 16])\n",
      "Raw outputs of size out.shape=torch.Size([32, 1, 16, 16])\n",
      ".. Processed (unpatched) outputs of size out.shape=torch.Size([32, 1, 16, 16])\n",
      "[0] time=10.39, avg_loss=26.0693, train_err=0.5214, 16_h1=0.4350, 16_l2=0.3397, 32_h1=0.5075, 32_l2=0.3390\n",
      "[3] time=2.24, avg_loss=11.7483, train_err=0.2350, 16_h1=0.2412, 16_l2=0.1875, 32_h1=0.3738, 32_l2=0.2196\n",
      "[6] time=2.20, avg_loss=9.9490, train_err=0.1990, 16_h1=0.2254, 16_l2=0.1743, 32_h1=0.3248, 32_l2=0.1880\n",
      "[9] time=2.18, avg_loss=8.8328, train_err=0.1767, 16_h1=0.1772, 16_l2=0.1308, 32_h1=0.3273, 32_l2=0.1660\n",
      "[12] time=2.15, avg_loss=8.3703, train_err=0.1674, 16_h1=0.1641, 16_l2=0.1163, 32_h1=0.2719, 32_l2=0.1318\n",
      "[15] time=2.25, avg_loss=7.2802, train_err=0.1456, 16_h1=0.1583, 16_l2=0.1136, 32_h1=0.2862, 32_l2=0.1481\n",
      "[18] time=2.16, avg_loss=6.9828, train_err=0.1397, 16_h1=0.1392, 16_l2=0.0981, 32_h1=0.2704, 32_l2=0.1232\n"
     ]
    }
   ],
   "source": [
    "trainer.train(train_loader, test_loaders,\n",
    "              output_encoder,\n",
    "              model, \n",
    "              optimizer,\n",
    "              scheduler, \n",
    "              regularizer=False, \n",
    "              training_loss=train_loss,\n",
    "              eval_losses=eval_losses)"
   ]
  },
  {
   "cell_type": "markdown",
   "metadata": {},
   "source": [
    "Plot the prediction, and compare with the ground-truth \n",
    "Note that we trained on a very small resolution for\n",
    "a very small number of epochs\n",
    "In practice, we would train at larger resolution, on many more samples.\n",
    "\n",
    "However, for practicity, we created a minimal example that\n",
    "i) fits in just a few Mb of memory\n",
    "ii) can be trained quickly on CPU\n",
    "\n",
    "In practice we would train a Neural Operator on one or multiple GPUs\n",
    "\n"
   ]
  },
  {
   "cell_type": "code",
   "execution_count": 78,
   "metadata": {},
   "outputs": [
    {
     "name": "stderr",
     "output_type": "stream",
     "text": [
      "/tmp/ipykernel_23054/2926119135.py:36: UserWarning: Matplotlib is currently using module://matplotlib_inline.backend_inline, which is a non-GUI backend, so cannot show the figure.\n",
      "  fig.show()\n"
     ]
    },
    {
     "data": {
      "image/png": "[encoded data removed]",
      "text/plain": [
       "<Figure size 700x700 with 9 Axes>"
      ]
     },
     "metadata": {},
     "output_type": "display_data"
    }
   ],
   "source": [
    "test_samples = test_loaders[32].dataset\n",
    "\n",
    "fig = plt.figure(figsize=(7, 7))\n",
    "for index in range(3):\n",
    "    data = test_samples[index]\n",
    "    # Input x\n",
    "    x = data['x']\n",
    "    # Ground-truth\n",
    "    y = data['y']\n",
    "    # Model prediction\n",
    "    out = model(x.unsqueeze(0))\n",
    "\n",
    "    ax = fig.add_subplot(3, 3, index*3 + 1)\n",
    "    ax.imshow(x[0], cmap='gray')\n",
    "    if index == 0: \n",
    "        ax.set_title('Input x')\n",
    "    plt.xticks([], [])\n",
    "    plt.yticks([], [])\n",
    "\n",
    "    ax = fig.add_subplot(3, 3, index*3 + 2)\n",
    "    ax.imshow(y.squeeze())\n",
    "    if index == 0: \n",
    "        ax.set_title('Ground-truth y')\n",
    "    plt.xticks([], [])\n",
    "    plt.yticks([], [])\n",
    "\n",
    "    ax = fig.add_subplot(3, 3, index*3 + 3)\n",
    "    ax.imshow(out.squeeze().detach().numpy())\n",
    "    if index == 0: \n",
    "        ax.set_title('Model prediction')\n",
    "    plt.xticks([], [])\n",
    "    plt.yticks([], [])\n",
    "\n",
    "fig.suptitle('Inputs, ground-truth output and prediction', y=0.98)\n",
    "plt.tight_layout()\n",
    "fig.show()"
   ]
  },
  {
   "cell_type": "code",
   "execution_count": 79,
   "metadata": {},
   "outputs": [
    {
     "data": {
      "text/plain": [
       "<torch.utils.data.dataloader.DataLoader at 0x7f15c8614d60>"
      ]
     },
     "execution_count": 79,
     "metadata": {},
     "output_type": "execute_result"
    }
   ],
   "source": [
    " test_samples = test_loaders[32].dataset\n",
    "test_loaders[32]"
   ]
  },
  {
   "cell_type": "code",
   "execution_count": 80,
   "metadata": {},
   "outputs": [
    {
     "data": {
      "text/plain": [
       "array([[-1.168513  , -1.1333628 , -1.1091212 , ..., -1.1295104 ,\n",
       "        -1.1316652 , -1.1221509 ],\n",
       "       [-1.1219668 , -1.0901239 , -1.0670892 , ..., -1.0585785 ,\n",
       "        -1.0889733 , -1.092587  ],\n",
       "       [-1.0981147 , -1.0567324 , -0.92149687, ..., -0.63565797,\n",
       "        -0.72242844, -0.79871994],\n",
       "       ...,\n",
       "       [-1.1491925 , -1.1342896 , -1.0866185 , ..., -0.99282026,\n",
       "        -1.0320151 , -1.0464137 ],\n",
       "       [-1.133303  , -1.1319402 , -1.0995712 , ..., -1.0228312 ,\n",
       "        -1.0536067 , -1.068547  ],\n",
       "       [-1.1124905 , -1.109965  , -1.0830414 , ..., -1.033295  ,\n",
       "        -1.0566852 , -1.0540258 ]], dtype=float32)"
      ]
     },
     "execution_count": 80,
     "metadata": {},
     "output_type": "execute_result"
    }
   ],
   "source": [
    "import numpy as np\n",
    "\n",
    "model(test_samples[2]['x'].unsqueeze(0)).squeeze().detach().numpy()"
   ]
  },
  {
   "cell_type": "code",
   "execution_count": 81,
   "metadata": {},
   "outputs": [
    {
     "data": {
      "text/plain": [
       "tensor([[[[0.0000000000, 0.0000000000, 0.0000000000,  ..., 0.0000000000,\n",
       "           0.0000000000, 0.0000000000],\n",
       "          [0.0000000000, 0.0000000000, 0.0000000000,  ..., 0.0000000000,\n",
       "           0.0000000000, 0.0000000000],\n",
       "          [0.0000000000, 0.0000000000, 0.0000000000,  ..., 0.0000000000,\n",
       "           0.0000000000, 0.0000000000],\n",
       "          ...,\n",
       "          [1.0000000000, 1.0000000000, 1.0000000000,  ..., 1.0000000000,\n",
       "           1.0000000000, 1.0000000000],\n",
       "          [1.0000000000, 1.0000000000, 1.0000000000,  ..., 1.0000000000,\n",
       "           1.0000000000, 1.0000000000],\n",
       "          [1.0000000000, 1.0000000000, 1.0000000000,  ..., 1.0000000000,\n",
       "           1.0000000000, 1.0000000000]],\n",
       "\n",
       "         [[0.0000000000, 0.0000000000, 0.0000000000,  ..., 0.0000000000,\n",
       "           0.0000000000, 0.0000000000],\n",
       "          [0.0312500000, 0.0312500000, 0.0312500000,  ..., 0.0312500000,\n",
       "           0.0312500000, 0.0312500000],\n",
       "          [0.0625000000, 0.0625000000, 0.0625000000,  ..., 0.0625000000,\n",
       "           0.0625000000, 0.0625000000],\n",
       "          ...,\n",
       "          [0.9062500000, 0.9062500000, 0.9062500000,  ..., 0.9062500000,\n",
       "           0.9062500000, 0.9062500000],\n",
       "          [0.9375000000, 0.9375000000, 0.9375000000,  ..., 0.9375000000,\n",
       "           0.9375000000, 0.9375000000],\n",
       "          [0.9687500000, 0.9687500000, 0.9687500000,  ..., 0.9687500000,\n",
       "           0.9687500000, 0.9687500000]],\n",
       "\n",
       "         [[0.0000000000, 0.0312500000, 0.0625000000,  ..., 0.9062500000,\n",
       "           0.9375000000, 0.9687500000],\n",
       "          [0.0000000000, 0.0312500000, 0.0625000000,  ..., 0.9062500000,\n",
       "           0.9375000000, 0.9687500000],\n",
       "          [0.0000000000, 0.0312500000, 0.0625000000,  ..., 0.9062500000,\n",
       "           0.9375000000, 0.9687500000],\n",
       "          ...,\n",
       "          [0.0000000000, 0.0312500000, 0.0625000000,  ..., 0.9062500000,\n",
       "           0.9375000000, 0.9687500000],\n",
       "          [0.0000000000, 0.0312500000, 0.0625000000,  ..., 0.9062500000,\n",
       "           0.9375000000, 0.9687500000],\n",
       "          [0.0000000000, 0.0312500000, 0.0625000000,  ..., 0.9062500000,\n",
       "           0.9375000000, 0.9687500000]]]])"
      ]
     },
     "execution_count": 81,
     "metadata": {},
     "output_type": "execute_result"
    }
   ],
   "source": [
    "test_samples[2]['x'].unsqueeze(0)"
   ]
  },
  {
   "cell_type": "code",
   "execution_count": 82,
   "metadata": {},
   "outputs": [
    {
     "data": {
      "text/plain": [
       "tensor([[[0.0000000000, 0.0000000000, 0.0000000000,  ..., 0.0000000000,\n",
       "          0.0000000000, 0.0000000000],\n",
       "         [0.0000000000, 0.0000000000, 0.0000000000,  ..., 0.0000000000,\n",
       "          0.0000000000, 0.0000000000],\n",
       "         [0.0000000000, 0.0000000000, 0.0000000000,  ..., 0.0000000000,\n",
       "          0.0000000000, 0.0000000000],\n",
       "         ...,\n",
       "         [1.0000000000, 1.0000000000, 1.0000000000,  ..., 1.0000000000,\n",
       "          1.0000000000, 1.0000000000],\n",
       "         [1.0000000000, 1.0000000000, 1.0000000000,  ..., 1.0000000000,\n",
       "          1.0000000000, 1.0000000000],\n",
       "         [1.0000000000, 1.0000000000, 1.0000000000,  ..., 1.0000000000,\n",
       "          1.0000000000, 1.0000000000]],\n",
       "\n",
       "        [[0.0000000000, 0.0000000000, 0.0000000000,  ..., 0.0000000000,\n",
       "          0.0000000000, 0.0000000000],\n",
       "         [0.0312500000, 0.0312500000, 0.0312500000,  ..., 0.0312500000,\n",
       "          0.0312500000, 0.0312500000],\n",
       "         [0.0625000000, 0.0625000000, 0.0625000000,  ..., 0.0625000000,\n",
       "          0.0625000000, 0.0625000000],\n",
       "         ...,\n",
       "         [0.9062500000, 0.9062500000, 0.9062500000,  ..., 0.9062500000,\n",
       "          0.9062500000, 0.9062500000],\n",
       "         [0.9375000000, 0.9375000000, 0.9375000000,  ..., 0.9375000000,\n",
       "          0.9375000000, 0.9375000000],\n",
       "         [0.9687500000, 0.9687500000, 0.9687500000,  ..., 0.9687500000,\n",
       "          0.9687500000, 0.9687500000]],\n",
       "\n",
       "        [[0.0000000000, 0.0312500000, 0.0625000000,  ..., 0.9062500000,\n",
       "          0.9375000000, 0.9687500000],\n",
       "         [0.0000000000, 0.0312500000, 0.0625000000,  ..., 0.9062500000,\n",
       "          0.9375000000, 0.9687500000],\n",
       "         [0.0000000000, 0.0312500000, 0.0625000000,  ..., 0.9062500000,\n",
       "          0.9375000000, 0.9687500000],\n",
       "         ...,\n",
       "         [0.0000000000, 0.0312500000, 0.0625000000,  ..., 0.9062500000,\n",
       "          0.9375000000, 0.9687500000],\n",
       "         [0.0000000000, 0.0312500000, 0.0625000000,  ..., 0.9062500000,\n",
       "          0.9375000000, 0.9687500000],\n",
       "         [0.0000000000, 0.0312500000, 0.0625000000,  ..., 0.9062500000,\n",
       "          0.9375000000, 0.9687500000]]])"
      ]
     },
     "execution_count": 82,
     "metadata": {},
     "output_type": "execute_result"
    }
   ],
   "source": [
    "test_samples[2]['x']"
   ]
  },
  {
   "cell_type": "code",
   "execution_count": 83,
   "metadata": {},
   "outputs": [],
   "source": [
    "    K1 = torch.load('darcy_test_32.pt')"
   ]
  },
  {
   "cell_type": "code",
   "execution_count": 84,
   "metadata": {},
   "outputs": [],
   "source": [
    "    x_te = K1['x'][:50, :, :].unsqueeze(1).type(torch.float32).clone()\n",
    "    y_te = K1['y'][:50, :, :].unsqueeze(1).clone()"
   ]
  },
  {
   "cell_type": "code",
   "execution_count": 85,
   "metadata": {},
   "outputs": [
    {
     "data": {
      "text/plain": [
       "(torch.Size([3, 32, 32]), torch.Size([50, 1, 32, 32]))"
      ]
     },
     "execution_count": 85,
     "metadata": {},
     "output_type": "execute_result"
    }
   ],
   "source": [
    "np.shape(test_samples[2]['x']), np.shape(y_te)"
   ]
  },
  {
   "cell_type": "code",
   "execution_count": 86,
   "metadata": {},
   "outputs": [
    {
     "data": {
      "text/plain": [
       "tensor([[0., 0., 0.,  ..., 0., 0., 0.],\n",
       "        [0., 0., 0.,  ..., 0., 0., 0.],\n",
       "        [0., 0., 0.,  ..., 0., 0., 0.],\n",
       "        ...,\n",
       "        [1., 1., 1.,  ..., 1., 1., 1.],\n",
       "        [1., 1., 1.,  ..., 1., 1., 1.],\n",
       "        [1., 1., 1.,  ..., 1., 1., 1.]])"
      ]
     },
     "execution_count": 86,
     "metadata": {},
     "output_type": "execute_result"
    }
   ],
   "source": [
    "x_te[2][0]"
   ]
  },
  {
   "cell_type": "code",
   "execution_count": 87,
   "metadata": {},
   "outputs": [],
   "source": [
    "    from tensor_dataset import TensorDataset\n",
    "    from transforms import PositionalEmbedding\n",
    "    \n",
    "    te_db = TensorDataset(x_te, y_te,transform_x=PositionalEmbedding([[0,1],[0,1]], 0))"
   ]
  },
  {
   "cell_type": "code",
   "execution_count": 88,
   "metadata": {},
   "outputs": [],
   "source": [
    "    te_loader = torch.utils.data.DataLoader(te_db,batch_size=32, shuffle=False, \n",
    "                                            num_workers=0, pin_memory=True, persistent_workers=False)"
   ]
  },
  {
   "cell_type": "code",
   "execution_count": 89,
   "metadata": {},
   "outputs": [],
   "source": [
    "    te_loaders = {32: te_loader}"
   ]
  },
  {
   "cell_type": "code",
   "execution_count": 90,
   "metadata": {},
   "outputs": [],
   "source": [
    "    te_samples = te_loaders[32].dataset\n"
   ]
  },
  {
   "cell_type": "code",
   "execution_count": 91,
   "metadata": {},
   "outputs": [
    {
     "data": {
      "text/plain": [
       "tensor([[[1.6487900575e-04, 2.7298897039e-03, 4.0033045225e-03,\n",
       "           ..., 4.8183067702e-03, 4.0065795183e-03,\n",
       "          2.6361187920e-03],\n",
       "         [2.7486244217e-03, 7.0306695998e-02, 1.1045861989e-01,\n",
       "           ..., 1.3610957563e-01, 1.1008996516e-01,\n",
       "          6.7277550697e-02],\n",
       "         [4.1475803591e-03, 1.1395390332e-01, 1.8633565307e-01,\n",
       "           ..., 2.3096522689e-01, 1.8325555325e-01,\n",
       "          1.0781790316e-01],\n",
       "         ...,\n",
       "         [6.9879565854e-04, 2.1712537855e-02, 4.0510553867e-02,\n",
       "           ..., 3.8783509284e-02, 2.7589337900e-02,\n",
       "          1.4638232999e-02],\n",
       "         [5.6337175192e-04, 1.6935665160e-02, 3.0068708584e-02,\n",
       "           ..., 2.7502866462e-02, 1.9801370800e-02,\n",
       "          1.0689987801e-02],\n",
       "         [4.9141608179e-04, 1.3468847610e-02, 1.8014920875e-02,\n",
       "           ..., 1.4568173327e-02, 1.0672790930e-02,\n",
       "          5.9433109127e-03]]])"
      ]
     },
     "execution_count": 91,
     "metadata": {},
     "output_type": "execute_result"
    }
   ],
   "source": [
    "te_samples[2]['y']"
   ]
  },
  {
   "cell_type": "code",
   "execution_count": 92,
   "metadata": {},
   "outputs": [
    {
     "data": {
      "text/plain": [
       "<bound method PositionalEmbedding.__call__ of <transforms.PositionalEmbedding object at 0x7f15c8608a60>>"
      ]
     },
     "execution_count": 92,
     "metadata": {},
     "output_type": "execute_result"
    }
   ],
   "source": [
    "PositionalEmbedding([[0,1],[0,1]], 0).__call__"
   ]
  },
  {
   "cell_type": "code",
   "execution_count": 93,
   "metadata": {},
   "outputs": [
    {
     "data": {
      "text/plain": [
       "tensor([[[[1.7661465972e-04, 3.1266564038e-03, 4.8438753001e-03,\n",
       "            ..., 7.7396770939e-04, 5.3946539992e-04,\n",
       "           2.9796815943e-04],\n",
       "          [3.1268284656e-03, 8.3077497780e-02, 1.3740435243e-01,\n",
       "            ..., 2.3968463764e-02, 1.6444856301e-02,\n",
       "           8.6890766397e-03],\n",
       "          [4.8451907933e-03, 1.3743659854e-01, 2.3538722098e-01,\n",
       "            ..., 4.3717313558e-02, 2.9886754230e-02,\n",
       "           1.5497001819e-02],\n",
       "          ...,\n",
       "          [5.3635486402e-03, 1.5409485996e-01, 2.6635545492e-01,\n",
       "            ..., 4.6299181879e-02, 3.2389003783e-02,\n",
       "           1.6947416589e-02],\n",
       "          [4.3674726039e-03, 1.2199471891e-01, 2.0667740703e-01,\n",
       "            ..., 3.2714005560e-02, 2.3120982572e-02,\n",
       "           1.2285232544e-02],\n",
       "          [2.8134884778e-03, 7.3128119111e-02, 1.1932579428e-01,\n",
       "            ..., 1.7203684896e-02, 1.2348551303e-02,\n",
       "           6.7478739657e-03]]],\n",
       "\n",
       "\n",
       "        [[[1.8190020637e-04, 3.3010919578e-03, 5.1874937490e-03,\n",
       "            ..., 5.8270669542e-03, 4.6343109570e-03,\n",
       "           2.9332845006e-03],\n",
       "          [3.3012351487e-03, 8.8833533227e-02, 1.4874418080e-01,\n",
       "            ..., 1.6892898083e-01, 1.3051357865e-01,\n",
       "           7.6945520937e-02],\n",
       "          [5.1885880530e-03, 1.4877104759e-01, 2.5772321224e-01,\n",
       "            ..., 2.9300063848e-01, 2.2185616195e-01,\n",
       "           1.2608566880e-01],\n",
       "          ...,\n",
       "          [4.9877970014e-04, 1.5166490339e-02, 2.7690358460e-02,\n",
       "            ..., 5.4014448076e-02, 3.7513107061e-02,\n",
       "           1.9471962005e-02],\n",
       "          [3.7384626921e-04, 1.1093491688e-02, 1.9904406741e-02,\n",
       "            ..., 3.7845838815e-02, 2.6521772146e-02,\n",
       "           1.3958846219e-02],\n",
       "          [2.2029364482e-04, 6.1674364842e-03, 1.0735880584e-02,\n",
       "            ..., 1.9735911861e-02, 1.4023967087e-02,\n",
       "           7.5717284344e-03]]],\n",
       "\n",
       "\n",
       "        [[[1.6487900575e-04, 2.7298897039e-03, 4.0033045225e-03,\n",
       "            ..., 4.8183067702e-03, 4.0065795183e-03,\n",
       "           2.6361187920e-03],\n",
       "          [2.7486244217e-03, 7.0306695998e-02, 1.1045861989e-01,\n",
       "            ..., 1.3610957563e-01, 1.1008996516e-01,\n",
       "           6.7277550697e-02],\n",
       "          [4.1475803591e-03, 1.1395390332e-01, 1.8633565307e-01,\n",
       "            ..., 2.3096522689e-01, 1.8325555325e-01,\n",
       "           1.0781790316e-01],\n",
       "          ...,\n",
       "          [6.9879565854e-04, 2.1712537855e-02, 4.0510553867e-02,\n",
       "            ..., 3.8783509284e-02, 2.7589337900e-02,\n",
       "           1.4638232999e-02],\n",
       "          [5.6337175192e-04, 1.6935665160e-02, 3.0068708584e-02,\n",
       "            ..., 2.7502866462e-02, 1.9801370800e-02,\n",
       "           1.0689987801e-02],\n",
       "          [4.9141608179e-04, 1.3468847610e-02, 1.8014920875e-02,\n",
       "            ..., 1.4568173327e-02, 1.0672790930e-02,\n",
       "           5.9433109127e-03]]],\n",
       "\n",
       "\n",
       "        ...,\n",
       "\n",
       "\n",
       "        [[[1.1365809769e-05, 2.2448334494e-04, 3.6746342084e-04,\n",
       "            ..., 5.2925171331e-03, 4.3092207052e-03,\n",
       "           2.7817904484e-03],\n",
       "          [2.2561936930e-04, 6.3046761788e-03, 1.0878343135e-02,\n",
       "            ..., 1.5161433816e-01, 1.1999391764e-01,\n",
       "           7.2046801448e-02],\n",
       "          [3.7675176281e-04, 1.1082283221e-02, 1.9478645176e-02,\n",
       "            ..., 2.6072338223e-01, 2.0230774581e-01,\n",
       "           1.1700335890e-01],\n",
       "          ...,\n",
       "          [5.2319612587e-04, 1.6002140939e-02, 2.9514985159e-02,\n",
       "            ..., 4.4299822301e-02, 3.1180376187e-02,\n",
       "           1.6385301948e-02],\n",
       "          [3.9374444168e-04, 1.1776608415e-02, 2.1409777924e-02,\n",
       "            ..., 3.1239775941e-02, 2.2231243551e-02,\n",
       "           1.1871820316e-02],\n",
       "          [2.3132101342e-04, 6.5467753448e-03, 1.1576958932e-02,\n",
       "            ..., 1.6432145610e-02, 1.1883394793e-02,\n",
       "           6.5318685956e-03]]],\n",
       "\n",
       "\n",
       "        [[[1.7185365141e-04, 2.9662221204e-03, 4.5084864832e-03,\n",
       "            ..., 4.3849423528e-03, 3.7237496581e-03,\n",
       "           2.4977824651e-03],\n",
       "          [2.9729909729e-03, 7.7893778682e-02, 1.2656979263e-01,\n",
       "            ..., 1.2190487236e-01, 1.0078575462e-01,\n",
       "           6.2720775604e-02],\n",
       "          [4.5602936298e-03, 1.2783728540e-01, 2.1533064544e-01,\n",
       "            ..., 2.0338693261e-01, 1.6505120695e-01,\n",
       "           9.8878383636e-02],\n",
       "          ...,\n",
       "          [2.2341846488e-03, 5.0594694912e-02, 5.9858720750e-02,\n",
       "            ..., 7.7602200210e-02, 5.2462536842e-02,\n",
       "           2.6657857001e-02],\n",
       "          [2.1342202090e-03, 4.7178387642e-02, 5.2109021693e-02,\n",
       "            ..., 5.3811851889e-02, 3.6745660007e-02,\n",
       "           1.8886495382e-02],\n",
       "          [1.6439768951e-03, 3.3573605120e-02, 3.4801255912e-02,\n",
       "            ..., 2.7371477336e-02, 1.9084624946e-02,\n",
       "           1.0032983497e-02]]],\n",
       "\n",
       "\n",
       "        [[[1.3090732682e-04, 1.5161634656e-03, 1.0401805630e-03,\n",
       "            ..., 3.4918317106e-03, 3.1064206269e-03,\n",
       "           2.1787513979e-03],\n",
       "          [1.7011346063e-03, 3.3683024347e-02, 3.1427521259e-02,\n",
       "            ..., 9.2817708850e-02, 8.0203242600e-02,\n",
       "           5.1980372518e-02],\n",
       "          [2.3931176402e-03, 5.4058127105e-02, 5.6135751307e-02,\n",
       "            ..., 1.4664028585e-01, 1.2272503227e-01,\n",
       "           7.6270110905e-02],\n",
       "          ...,\n",
       "          [7.2256679414e-04, 2.2526975721e-02, 4.2050868273e-02,\n",
       "            ..., 3.9700308442e-01, 2.9789346457e-01,\n",
       "           1.6596706212e-01],\n",
       "          [5.2004412282e-04, 1.5902377665e-02, 2.9288470745e-02,\n",
       "            ..., 2.9424419999e-01, 2.2395110130e-01,\n",
       "           1.2742750347e-01],\n",
       "          [2.9159648693e-04, 8.5128825158e-03, 1.5313186683e-02,\n",
       "            ..., 1.6308850050e-01, 1.2671633065e-01,\n",
       "           7.4901238084e-02]]]])"
      ]
     },
     "execution_count": 93,
     "metadata": {},
     "output_type": "execute_result"
    }
   ],
   "source": [
    "torch.cat((y_te, x_te.squeeze(0), y_te.squeeze(0)), dim=0)"
   ]
  },
  {
   "cell_type": "code",
   "execution_count": 94,
   "metadata": {},
   "outputs": [
    {
     "name": "stderr",
     "output_type": "stream",
     "text": [
      "/tmp/ipykernel_23054/2765645370.py:34: UserWarning: Matplotlib is currently using module://matplotlib_inline.backend_inline, which is a non-GUI backend, so cannot show the figure.\n",
      "  fig.show()\n"
     ]
    },
    {
     "data": {
      "image/png": "[encoded data removed]",
      "text/plain": [
       "<Figure size 700x700 with 9 Axes>"
      ]
     },
     "metadata": {},
     "output_type": "display_data"
    }
   ],
   "source": [
    "\n",
    "fig = plt.figure(figsize=(7, 7))\n",
    "for ind in range(3):\n",
    "    da = te_samples[ind]\n",
    "    # Input x\n",
    "    x1 = da['x']\n",
    "    # Ground-truth\n",
    "    y1 = da['y']\n",
    "    # Model prediction\n",
    "    out1 = model(x1.unsqueeze(0))\n",
    "\n",
    "    ax1 = fig.add_subplot(3, 3, ind*3 + 1)\n",
    "    ax1.imshow(x1[0], cmap='gray')\n",
    "    if ind == 0: \n",
    "        ax1.set_title('Input x')\n",
    "    plt.xticks([], [])\n",
    "    plt.yticks([], [])\n",
    "\n",
    "    ax1 = fig.add_subplot(3, 3, ind*3 + 2)\n",
    "    ax1.imshow(y1.squeeze())\n",
    "    if ind == 0: \n",
    "        ax1.set_title('Ground-truth y')\n",
    "    plt.xticks([], [])\n",
    "    plt.yticks([], [])\n",
    "\n",
    "    ax1 = fig.add_subplot(3, 3, ind*3 + 3)\n",
    "    ax1.imshow(out1.squeeze().detach().numpy())\n",
    "    if ind == 0: \n",
    "        ax1.set_title('Model prediction')\n",
    "    plt.xticks([], [])\n",
    "    plt.yticks([], [])\n",
    "\n",
    "fig.suptitle('Inputs, ground-truth output and prediction.', y=0.98)\n",
    "plt.tight_layout()\n",
    "fig.show()"
   ]
  },
  {
   "cell_type": "code",
   "execution_count": 95,
   "metadata": {},
   "outputs": [
    {
     "name": "stderr",
     "output_type": "stream",
     "text": [
      "/tmp/ipykernel_23054/721110919.py:36: UserWarning: Matplotlib is currently using module://matplotlib_inline.backend_inline, which is a non-GUI backend, so cannot show the figure.\n",
      "  fig.show()\n"
     ]
    },
    {
     "data": {
      "image/png": "[encoded data removed]",
      "text/plain": [
       "<Figure size 700x700 with 9 Axes>"
      ]
     },
     "metadata": {},
     "output_type": "display_data"
    }
   ],
   "source": [
    "fig = plt.figure(figsize=(7, 7))\n",
    "\n",
    "row = 3\n",
    "for ind in range(row):\n",
    "    da = te_samples[ind]\n",
    "    # Input x\n",
    "    x1 = da['x']\n",
    "    # Ground-truth\n",
    "    y1 = da['y']\n",
    "    # Model prediction\n",
    "    out1 = model(x1.unsqueeze(0))\n",
    "\n",
    "    ax1 = fig.add_subplot(row, 3, ind*3 + 1)\n",
    "    ax1.imshow(x1[1], cmap='gray')\n",
    "    if ind == 0: \n",
    "        ax1.set_title('Input x')\n",
    "    plt.xticks([], [])\n",
    "    plt.yticks([], [])\n",
    "\n",
    "    ax1 = fig.add_subplot(row, 3, ind*3 + 2)\n",
    "    ax1.imshow(y1[0])\n",
    "    if ind == 0: \n",
    "        ax1.set_title('Ground-truth y')\n",
    "    plt.xticks([], [])\n",
    "    plt.yticks([], [])\n",
    "\n",
    "    ax1 = fig.add_subplot(row, 3, ind*3 + 3)\n",
    "    ax1.imshow(out1.squeeze().detach().numpy())\n",
    "    if ind == 0: \n",
    "        ax1.set_title('Model prediction')\n",
    "    plt.xticks([], [])\n",
    "    plt.yticks([], [])\n",
    "\n",
    "fig.suptitle('Inputs, ground-truth output and prediction.', y=0.98)\n",
    "plt.tight_layout()\n",
    "fig.show()"
   ]
  },
  {
   "cell_type": "code",
   "execution_count": 96,
   "metadata": {},
   "outputs": [
    {
     "data": {
      "text/plain": [
       "tensor([1., 1., 1., 1., 1., 1., 1., 1., 1., 1., 0., 0., 0., 0., 0., 0., 0., 0.,\n",
       "        0., 0., 1., 0., 0., 0., 1., 1., 1., 1., 1., 1., 1., 1.])"
      ]
     },
     "execution_count": 96,
     "metadata": {},
     "output_type": "execute_result"
    }
   ],
   "source": [
    "x_te[2][0][23]"
   ]
  },
  {
   "cell_type": "code",
   "execution_count": 97,
   "metadata": {},
   "outputs": [
    {
     "data": {
      "text/plain": [
       "tensor([[0.0000000000, 0.0312500000, 0.0625000000,  ..., 0.9062500000,\n",
       "         0.9375000000, 0.9687500000],\n",
       "        [0.0000000000, 0.0312500000, 0.0625000000,  ..., 0.9062500000,\n",
       "         0.9375000000, 0.9687500000],\n",
       "        [0.0000000000, 0.0312500000, 0.0625000000,  ..., 0.9062500000,\n",
       "         0.9375000000, 0.9687500000],\n",
       "        ...,\n",
       "        [0.0000000000, 0.0312500000, 0.0625000000,  ..., 0.9062500000,\n",
       "         0.9375000000, 0.9687500000],\n",
       "        [0.0000000000, 0.0312500000, 0.0625000000,  ..., 0.9062500000,\n",
       "         0.9375000000, 0.9687500000],\n",
       "        [0.0000000000, 0.0312500000, 0.0625000000,  ..., 0.9062500000,\n",
       "         0.9375000000, 0.9687500000]])"
      ]
     },
     "execution_count": 97,
     "metadata": {},
     "output_type": "execute_result"
    }
   ],
   "source": [
    "te_samples[2]['x'][2]"
   ]
  },
  {
   "cell_type": "code",
   "execution_count": 98,
   "metadata": {},
   "outputs": [
    {
     "data": {
      "text/plain": [
       "tensor([[[0.0000000000, 0.0000000000, 0.0000000000,  ..., 1.0000000000,\n",
       "          1.0000000000, 1.0000000000],\n",
       "         [0.0000000000, 0.0000000000, 0.0000000000,  ..., 1.0000000000,\n",
       "          1.0000000000, 1.0000000000],\n",
       "         [0.0000000000, 0.0000000000, 0.0000000000,  ..., 1.0000000000,\n",
       "          1.0000000000, 1.0000000000],\n",
       "         ...,\n",
       "         [0.0000000000, 0.0000000000, 0.0000000000,  ..., 1.0000000000,\n",
       "          1.0000000000, 1.0000000000],\n",
       "         [0.0000000000, 0.0000000000, 0.0000000000,  ..., 1.0000000000,\n",
       "          1.0000000000, 1.0000000000],\n",
       "         [0.0000000000, 0.0000000000, 0.0000000000,  ..., 1.0000000000,\n",
       "          1.0000000000, 1.0000000000]],\n",
       "\n",
       "        [[0.0000000000, 0.0000000000, 0.0000000000,  ..., 0.0000000000,\n",
       "          0.0000000000, 0.0000000000],\n",
       "         [0.0312500000, 0.0312500000, 0.0312500000,  ..., 0.0312500000,\n",
       "          0.0312500000, 0.0312500000],\n",
       "         [0.0625000000, 0.0625000000, 0.0625000000,  ..., 0.0625000000,\n",
       "          0.0625000000, 0.0625000000],\n",
       "         ...,\n",
       "         [0.9062500000, 0.9062500000, 0.9062500000,  ..., 0.9062500000,\n",
       "          0.9062500000, 0.9062500000],\n",
       "         [0.9375000000, 0.9375000000, 0.9375000000,  ..., 0.9375000000,\n",
       "          0.9375000000, 0.9375000000],\n",
       "         [0.9687500000, 0.9687500000, 0.9687500000,  ..., 0.9687500000,\n",
       "          0.9687500000, 0.9687500000]],\n",
       "\n",
       "        [[0.0000000000, 0.0312500000, 0.0625000000,  ..., 0.9062500000,\n",
       "          0.9375000000, 0.9687500000],\n",
       "         [0.0000000000, 0.0312500000, 0.0625000000,  ..., 0.9062500000,\n",
       "          0.9375000000, 0.9687500000],\n",
       "         [0.0000000000, 0.0312500000, 0.0625000000,  ..., 0.9062500000,\n",
       "          0.9375000000, 0.9687500000],\n",
       "         ...,\n",
       "         [0.0000000000, 0.0312500000, 0.0625000000,  ..., 0.9062500000,\n",
       "          0.9375000000, 0.9687500000],\n",
       "         [0.0000000000, 0.0312500000, 0.0625000000,  ..., 0.9062500000,\n",
       "          0.9375000000, 0.9687500000],\n",
       "         [0.0000000000, 0.0312500000, 0.0625000000,  ..., 0.9062500000,\n",
       "          0.9375000000, 0.9687500000]]])"
      ]
     },
     "execution_count": 98,
     "metadata": {},
     "output_type": "execute_result"
    }
   ],
   "source": [
    "te_db[0]['x']"
   ]
  },
  {
   "cell_type": "code",
   "execution_count": 99,
   "metadata": {},
   "outputs": [],
   "source": [
    "import numpy as np\n",
    "import h5py, os"
   ]
  },
  {
   "cell_type": "code",
   "execution_count": 100,
   "metadata": {},
   "outputs": [
    {
     "data": {
      "image/png": "[encoded data removed]",
      "text/plain": [
       "<Figure size 640x480 with 2 Axes>"
      ]
     },
     "metadata": {},
     "output_type": "display_data"
    },
    {
     "data": {
      "text/plain": [
       "0.9997366070747375"
      ]
     },
     "execution_count": 100,
     "metadata": {},
     "output_type": "execute_result"
    }
   ],
   "source": [
    "with h5py.File('28.chkpt.000_200.h5') as f:\n",
    "    c = np.sqrt(2)\n",
    "    x = np.copy(f['rho'])\n",
    "    xn = np.reshape(x, (32,32))\n",
    "    k = xn\n",
    "    #torch.set_printoptions(precision=10)\n",
    "    xn1 = torch.from_numpy(k).float()\n",
    "    plt.imshow(xn) #vmin = 0, vmax = 3.2)\n",
    "    plt.colorbar()\n",
    "    plt.title(\"t = 0\")\n",
    "    #plt.savefig('density%03d.png'%(0))\n",
    "    plt.show()\n",
    "xn1[0,8].item()"
   ]
  },
  {
   "cell_type": "code",
   "execution_count": 101,
   "metadata": {},
   "outputs": [
    {
     "data": {
      "image/png": "[encoded data removed]",
      "text/plain": [
       "<Figure size 640x480 with 2 Axes>"
      ]
     },
     "metadata": {},
     "output_type": "display_data"
    },
    {
     "data": {
      "text/plain": [
       "1.0"
      ]
     },
     "execution_count": 101,
     "metadata": {},
     "output_type": "execute_result"
    }
   ],
   "source": [
    "with h5py.File('28.chkpt.000_300.h5') as f1:\n",
    "    c = np.sqrt(2)\n",
    "    x5 = np.copy(f1['rho'])\n",
    "    xn5 = np.reshape(x5, (32,32))\n",
    "    k5 = xn5**1\n",
    "    #torch.set_printoptions(precision=10)\n",
    "    xn5 = torch.from_numpy(k5).float()\n",
    "    plt.imshow(xn5) #vmin = 0, vmax = 3.2)\n",
    "    plt.colorbar()\n",
    "    plt.title(\"t = 0.3\")\n",
    "    #plt.savefig('density%03d.png'%(0))\n",
    "    plt.show()\n",
    "xn5[0,31].item()"
   ]
  },
  {
   "cell_type": "code",
   "execution_count": 102,
   "metadata": {},
   "outputs": [
    {
     "data": {
      "text/plain": [
       "(1024,)"
      ]
     },
     "execution_count": 102,
     "metadata": {},
     "output_type": "execute_result"
    }
   ],
   "source": [
    "np.shape(x)"
   ]
  },
  {
   "cell_type": "code",
   "execution_count": 103,
   "metadata": {},
   "outputs": [],
   "source": [
    "#xn = np.reshape(x, (32,32))"
   ]
  },
  {
   "cell_type": "code",
   "execution_count": 104,
   "metadata": {},
   "outputs": [],
   "source": [
    "#xn[0,31]"
   ]
  },
  {
   "cell_type": "code",
   "execution_count": 105,
   "metadata": {},
   "outputs": [
    {
     "name": "stderr",
     "output_type": "stream",
     "text": [
      "/tmp/ipykernel_23054/1988696880.py:42: UserWarning: Matplotlib is currently using module://matplotlib_inline.backend_inline, which is a non-GUI backend, so cannot show the figure.\n",
      "  fig.show()\n"
     ]
    },
    {
     "data": {
      "image/png": "[encoded data removed]",
      "text/plain": [
       "<Figure size 700x700 with 6 Axes>"
      ]
     },
     "metadata": {},
     "output_type": "display_data"
    }
   ],
   "source": [
    "fig = plt.figure(figsize=(7, 7))\n",
    "\n",
    "row = 2\n",
    "for ind in range(row):\n",
    "    da = te_samples[0]\n",
    "    # Input x\n",
    "    x1 = da['x']\n",
    "    if ind == 0:\n",
    "        x1[0] = xn1\n",
    "    else:\n",
    "        x1[0] = xn5\n",
    "    # Ground-truth\n",
    "    y1 = da['y']\n",
    "    # Model prediction\n",
    "    out1 = model(x1.unsqueeze(0))\n",
    "\n",
    "    ax1 = fig.add_subplot(row, 3, ind*3 + 1)\n",
    "    ax1.imshow(x1[0], cmap='gray')\n",
    "    if ind == 0: \n",
    "        ax1.set_title('Input x')\n",
    "    plt.xticks([], [])\n",
    "    plt.yticks([], [])\n",
    "\n",
    "    ax1 = fig.add_subplot(row, 3, ind*3 + 2)\n",
    "    if ind == 0:\n",
    "        ax1.imshow(xn1)\n",
    "        ax1.set_title('Ground-truth y')\n",
    "    else:\n",
    "        ax1.imshow(xn5)\n",
    "    plt.xticks([], [])\n",
    "    plt.yticks([], [])\n",
    "\n",
    "    ax1 = fig.add_subplot(row, 3, ind*3 + 3)\n",
    "    ax1.imshow(out1.squeeze().detach().numpy())\n",
    "    if ind == 0: \n",
    "        ax1.set_title('Model prediction')\n",
    "    plt.xticks([], [])\n",
    "    plt.yticks([], [])\n",
    "\n",
    "fig.suptitle('Inputs, ground-truth output and prediction.', y=0.98)\n",
    "plt.tight_layout()\n",
    "fig.show()"
   ]
  },
  {
   "cell_type": "code",
   "execution_count": 106,
   "metadata": {},
   "outputs": [
    {
     "data": {
      "text/plain": [
       "torch.Size([32, 32])"
      ]
     },
     "execution_count": 106,
     "metadata": {},
     "output_type": "execute_result"
    }
   ],
   "source": [
    "np.shape(xn1)"
   ]
  },
  {
   "cell_type": "code",
   "execution_count": 107,
   "metadata": {},
   "outputs": [],
   "source": [
    "xn1 = torch.from_numpy(xn*(1./3.)).float()"
   ]
  },
  {
   "cell_type": "code",
   "execution_count": 108,
   "metadata": {},
   "outputs": [
    {
     "data": {
      "text/plain": [
       "0.09240803402915948"
      ]
     },
     "execution_count": 108,
     "metadata": {},
     "output_type": "execute_result"
    }
   ],
   "source": [
    "xn[0,16]*1./3."
   ]
  },
  {
   "cell_type": "code",
   "execution_count": 109,
   "metadata": {},
   "outputs": [],
   "source": [
    "torch.set_printoptions(precision=10)"
   ]
  },
  {
   "cell_type": "code",
   "execution_count": 110,
   "metadata": {},
   "outputs": [],
   "source": [
    "xn1 = torch.from_numpy(xn*(1./3.)).float()"
   ]
  },
  {
   "cell_type": "code",
   "execution_count": 111,
   "metadata": {},
   "outputs": [
    {
     "data": {
      "text/plain": [
       "tensor(0.0924080312)"
      ]
     },
     "execution_count": 111,
     "metadata": {},
     "output_type": "execute_result"
    }
   ],
   "source": [
    "xn1[0,16]"
   ]
  },
  {
   "cell_type": "code",
   "execution_count": 112,
   "metadata": {},
   "outputs": [],
   "source": [
    "    K2 = torch.load('darcy_train_16.pt')"
   ]
  },
  {
   "cell_type": "code",
   "execution_count": 113,
   "metadata": {},
   "outputs": [],
   "source": [
    "    x_te1 = K2['x'][:1000, :, :].unsqueeze(1).type(torch.float32).clone()\n",
    "    y_te1 = K2['y'][:1000, :, :].unsqueeze(1).clone()"
   ]
  },
  {
   "cell_type": "code",
   "execution_count": 114,
   "metadata": {},
   "outputs": [
    {
     "data": {
      "text/plain": [
       "torch.Size([1000, 1, 16, 16])"
      ]
     },
     "execution_count": 114,
     "metadata": {},
     "output_type": "execute_result"
    }
   ],
   "source": [
    "np.shape(y_te1)"
   ]
  },
  {
   "cell_type": "code",
   "execution_count": 115,
   "metadata": {},
   "outputs": [
    {
     "data": {
      "text/plain": [
       "tensor([[[1., 1., 1., 0., 0., 0., 0., 1., 1., 1., 1., 0., 0., 0., 0., 0.],\n",
       "         [1., 1., 0., 0., 0., 0., 0., 1., 1., 1., 0., 0., 0., 0., 0., 0.],\n",
       "         [1., 1., 1., 1., 0., 0., 1., 1., 1., 1., 0., 0., 0., 0., 0., 1.],\n",
       "         [1., 1., 1., 1., 1., 1., 0., 0., 0., 0., 0., 0., 0., 0., 1., 1.],\n",
       "         [1., 1., 1., 1., 1., 0., 0., 0., 0., 0., 0., 0., 0., 0., 0., 1.],\n",
       "         [1., 1., 1., 1., 1., 0., 0., 0., 0., 0., 0., 0., 0., 1., 1., 1.],\n",
       "         [1., 1., 1., 1., 0., 0., 0., 0., 0., 0., 0., 0., 1., 1., 1., 0.],\n",
       "         [0., 0., 0., 0., 0., 0., 0., 0., 0., 0., 1., 1., 1., 1., 0., 0.],\n",
       "         [0., 0., 0., 1., 1., 1., 0., 0., 0., 0., 1., 1., 1., 1., 0., 0.],\n",
       "         [0., 0., 1., 1., 1., 1., 0., 0., 0., 0., 1., 1., 1., 0., 0., 0.],\n",
       "         [0., 0., 1., 1., 1., 0., 0., 0., 0., 0., 1., 1., 1., 0., 0., 0.],\n",
       "         [0., 0., 1., 1., 1., 0., 0., 0., 0., 1., 1., 1., 1., 0., 0., 0.],\n",
       "         [0., 0., 1., 1., 1., 1., 0., 1., 1., 1., 1., 1., 1., 0., 0., 0.],\n",
       "         [1., 1., 1., 1., 1., 1., 1., 1., 1., 1., 1., 1., 1., 0., 0., 0.],\n",
       "         [1., 1., 1., 1., 1., 1., 1., 1., 1., 1., 1., 1., 1., 1., 0., 0.],\n",
       "         [1., 1., 1., 1., 1., 1., 1., 1., 1., 1., 1., 1., 1., 1., 0., 0.]]])"
      ]
     },
     "execution_count": 115,
     "metadata": {},
     "output_type": "execute_result"
    }
   ],
   "source": [
    "x_te1[999]"
   ]
  },
  {
   "cell_type": "code",
   "execution_count": 116,
   "metadata": {},
   "outputs": [],
   "source": [
    "    te_db1 = TensorDataset(x_te1, y_te1,transform_x=PositionalEmbedding([[0,1],[0,1]], 0))"
   ]
  },
  {
   "cell_type": "code",
   "execution_count": 117,
   "metadata": {},
   "outputs": [],
   "source": [
    " te_loader1 = torch.utils.data.DataLoader(te_db1,batch_size=16, shuffle=False, \n",
    "                                            num_workers=0, pin_memory=True, persistent_workers=False)"
   ]
  },
  {
   "cell_type": "code",
   "execution_count": 118,
   "metadata": {},
   "outputs": [],
   "source": [
    "    te_loaders1 = {16: te_loader1}"
   ]
  },
  {
   "cell_type": "code",
   "execution_count": 119,
   "metadata": {},
   "outputs": [],
   "source": [
    "    te_samples1 = te_loaders1[16].dataset\n"
   ]
  },
  {
   "cell_type": "code",
   "execution_count": 120,
   "metadata": {},
   "outputs": [
    {
     "data": {
      "text/plain": [
       "tensor([[1.2389930816e-05, 4.0632678429e-04, 4.6736505465e-04, 1.3961776858e-03,\n",
       "         3.8426097017e-03, 4.1917646304e-03, 3.6104037426e-03, 1.5960169258e-03,\n",
       "         1.2779056560e-03, 1.1683362536e-03, 1.1133062653e-03, 5.7975463569e-03,\n",
       "         6.6013322212e-03, 6.2013976276e-03, 5.2567622624e-03, 3.8315264974e-03],\n",
       "        [4.5682242489e-04, 2.4490892887e-02, 2.4043351412e-02, 1.0720110685e-01,\n",
       "         1.6496020555e-01, 1.8225651979e-01, 1.5028981864e-01, 9.1426208615e-02,\n",
       "         7.5574792922e-02, 6.9958060980e-02, 1.3369858265e-01, 3.0809807777e-01,\n",
       "         3.4173533320e-01, 3.0971986055e-01, 2.4494899809e-01, 1.6904245317e-01],\n",
       "        [7.8404718079e-04, 4.7289483249e-02, 9.6911378205e-02, 1.4221425354e-01,\n",
       "         1.7851544917e-01, 2.1226891875e-01, 1.7859312892e-01, 1.4921569824e-01,\n",
       "         1.2957422435e-01, 1.2465066463e-01, 3.9728179574e-01, 5.3546005487e-01,\n",
       "         5.4127717018e-01, 4.5268219709e-01, 2.8241607547e-01, 2.3702436686e-01],\n",
       "        [9.8212331068e-04, 5.9184975922e-02, 1.1040841788e-01, 1.5310597420e-01,\n",
       "         1.8388469517e-01, 2.0178975165e-01, 2.6514413953e-01, 3.4217876196e-01,\n",
       "         4.4429314137e-01, 5.4593575001e-01, 6.5554422140e-01, 6.9549304247e-01,\n",
       "         6.3717323542e-01, 4.7088408470e-01, 2.4305298924e-01, 2.2244760394e-01],\n",
       "        [1.0975596961e-03, 6.6107258201e-02, 1.2116901577e-01, 1.6543303430e-01,\n",
       "         1.9854603708e-01, 3.1785255671e-01, 5.3571379185e-01, 6.6280555725e-01,\n",
       "         7.4354308844e-01, 7.8982812166e-01, 8.0348986387e-01, 7.6106309891e-01,\n",
       "         6.3900715113e-01, 4.3972441554e-01, 2.3756922781e-01, 1.6816027462e-01],\n",
       "        [1.1785374954e-03, 7.1638964117e-02, 1.3202700019e-01, 1.7850919068e-01,\n",
       "         2.1211770177e-01, 4.2816925049e-01, 6.9207906723e-01, 8.3148014545e-01,\n",
       "         8.8190585375e-01, 8.6454302073e-01, 8.1240367889e-01, 7.1682131290e-01,\n",
       "         5.2499961853e-01, 3.6236622930e-01, 2.6962989569e-01, 1.4559260011e-01],\n",
       "        [1.2177460594e-03, 7.3994778097e-02, 1.4780353010e-01, 1.9400085509e-01,\n",
       "         2.9395419359e-01, 5.5916345119e-01, 7.6510596275e-01, 8.9210015535e-01,\n",
       "         8.9770424366e-01, 7.7121806145e-01, 6.5859109163e-01, 5.8777266741e-01,\n",
       "         4.4701278210e-01, 3.9534363151e-01, 3.2480144501e-01, 1.5952090919e-01],\n",
       "        [4.2720106430e-03, 2.0958273113e-01, 3.2162967324e-01, 3.8233974576e-01,\n",
       "         4.5926389098e-01, 5.3577846289e-01, 7.2479754686e-01, 8.8231623173e-01,\n",
       "         8.6370009184e-01, 5.9591972828e-01, 5.5694562197e-01, 5.1391661167e-01,\n",
       "         4.7112679482e-01, 4.3449464440e-01, 4.0222340822e-01, 2.7115190029e-01],\n",
       "        [5.6649800390e-03, 2.7817174792e-01, 4.0276747942e-01, 4.3324851990e-01,\n",
       "         4.5993939042e-01, 4.8907238245e-01, 6.7135894299e-01, 8.4634631872e-01,\n",
       "         8.3853191137e-01, 6.8625211716e-01, 5.2322393656e-01, 4.9876534939e-01,\n",
       "         4.7897100449e-01, 4.6849581599e-01, 4.6858817339e-01, 3.1717795134e-01],\n",
       "        [6.0540162958e-03, 2.9866084456e-01, 3.8901859522e-01, 4.1078191996e-01,\n",
       "         4.3675899506e-01, 4.6607115865e-01, 6.5832740068e-01, 7.9307395220e-01,\n",
       "         7.7639812231e-01, 6.2341356277e-01, 4.7445937991e-01, 4.7018358111e-01,\n",
       "         4.6740168333e-01, 4.9799209833e-01, 5.0115734339e-01, 3.3696714044e-01],\n",
       "        [5.9698419645e-03, 2.9313388467e-01, 3.5469135642e-01, 3.7251144648e-01,\n",
       "         3.9750444889e-01, 4.6506473422e-01, 6.2277734280e-01, 6.9393283129e-01,\n",
       "         6.5350741148e-01, 4.9398696423e-01, 4.2617011070e-01, 4.2910856009e-01,\n",
       "         4.3446475267e-01, 5.0380903482e-01, 5.0580567122e-01, 3.4009072185e-01],\n",
       "        [5.4793562740e-03, 2.6341593266e-01, 3.0527651310e-01, 3.1801882386e-01,\n",
       "         3.2868635654e-01, 4.1167277098e-01, 4.9945595860e-01, 5.1244956255e-01,\n",
       "         4.4763076305e-01, 3.4939992428e-01, 3.6676689982e-01, 3.7540608644e-01,\n",
       "         3.8373142481e-01, 4.6809840202e-01, 4.8318323493e-01, 3.2890295982e-01],\n",
       "        [4.4533964247e-03, 1.9736060500e-01, 2.3996928334e-01, 2.5522708893e-01,\n",
       "         2.5609117746e-01, 2.3898978531e-01, 2.6334846020e-01, 2.3939341307e-01,\n",
       "         2.6203930378e-01, 2.8658744693e-01, 3.0328610539e-01, 3.1164315343e-01,\n",
       "         3.1503641605e-01, 4.0005794168e-01, 4.3308138847e-01, 3.0354690552e-01],\n",
       "        [1.6682612477e-03, 1.1594618857e-01, 1.7153118551e-01, 1.9486580789e-01,\n",
       "         2.0039635897e-01, 1.9689390063e-01, 1.9450990856e-01, 2.0105656981e-01,\n",
       "         2.1359193325e-01, 2.2691239417e-01, 2.3699711263e-01, 2.4160389602e-01,\n",
       "         2.3896205425e-01, 2.7534693480e-01, 3.5163363814e-01, 2.6348102093e-01],\n",
       "        [1.3503463706e-03, 7.7126905322e-02, 1.2250941247e-01, 1.4032486081e-01,\n",
       "         1.4366017282e-01, 1.4299239218e-01, 1.4325498044e-01, 1.4685580134e-01,\n",
       "         1.5324005485e-01, 1.6019563377e-01, 1.6546700895e-01, 1.6725285351e-01,\n",
       "         1.6378274560e-01, 1.5218974650e-01, 2.4104961753e-01, 2.0910663903e-01],\n",
       "        [1.1101223063e-03, 6.1596795917e-02, 9.2050008476e-02, 8.8255681098e-02,\n",
       "         7.9157598317e-02, 7.7068023384e-02, 7.7172480524e-02, 7.8779444098e-02,\n",
       "         8.1481628120e-02, 8.4418945014e-02, 8.6596198380e-02, 8.7134130299e-02,\n",
       "         8.5422739387e-02, 8.2222998142e-02, 1.2654681504e-01, 1.3585093617e-01]])"
      ]
     },
     "execution_count": 120,
     "metadata": {},
     "output_type": "execute_result"
    }
   ],
   "source": [
    "te_samples1[999]['y'][0]"
   ]
  },
  {
   "cell_type": "code",
   "execution_count": 121,
   "metadata": {},
   "outputs": [
    {
     "data": {
      "text/plain": [
       "tensor(0.8977042437)"
      ]
     },
     "execution_count": 121,
     "metadata": {},
     "output_type": "execute_result"
    }
   ],
   "source": [
    "torch.max(te_samples1[999]['y'][0])"
   ]
  },
  {
   "cell_type": "code",
   "execution_count": 122,
   "metadata": {},
   "outputs": [
    {
     "name": "stderr",
     "output_type": "stream",
     "text": [
      "/tmp/ipykernel_23054/4125397676.py:34: UserWarning: Matplotlib is currently using module://matplotlib_inline.backend_inline, which is a non-GUI backend, so cannot show the figure.\n",
      "  fig1.show()\n"
     ]
    },
    {
     "data": {
      "image/png": "[encoded data removed]",
      "text/plain": [
       "<Figure size 700x700 with 9 Axes>"
      ]
     },
     "metadata": {},
     "output_type": "display_data"
    }
   ],
   "source": [
    "fig1 = plt.figure(figsize=(7, 7))\n",
    "for ind1 in range(3):\n",
    "    da1 = te_samples1[ind1]\n",
    "    # Input x\n",
    "    x2 = da1['x']\n",
    "    # Ground-truth\n",
    "    y2 = da1['y']\n",
    "    # Model prediction\n",
    "    out2 = model(x2.unsqueeze(0))\n",
    "\n",
    "    ax2 = fig1.add_subplot(3, 3, ind1*3 + 1)\n",
    "    ax2.imshow(x2[0], cmap='gray')\n",
    "    if ind1 == 0: \n",
    "        ax2.set_title('Input x')\n",
    "    plt.xticks([], [])\n",
    "    plt.yticks([], [])\n",
    "\n",
    "    ax2 = fig1.add_subplot(3, 3, ind1*3 + 2)\n",
    "    ax2.imshow(y2.squeeze())\n",
    "    if ind1 == 0: \n",
    "        ax2.set_title('Ground-truth y')\n",
    "    plt.xticks([], [])\n",
    "    plt.yticks([], [])\n",
    "\n",
    "    ax2 = fig1.add_subplot(3, 3, ind1*3 + 3)\n",
    "    ax2.imshow(out2.squeeze().detach().numpy())\n",
    "    if ind1 == 0: \n",
    "        ax2.set_title('Model prediction')\n",
    "    plt.xticks([], [])\n",
    "    plt.yticks([], [])\n",
    "\n",
    "fig1.suptitle('Inputs, ground-truth output and prediction.', y=0.98)\n",
    "plt.tight_layout()\n",
    "fig1.show()"
   ]
  },
  {
   "cell_type": "code",
   "execution_count": null,
   "metadata": {
    "scrolled": true
   },
   "outputs": [],
   "source": [
    "    K3 = torch.load('NavierStokes_V1e-4_N10000_T30.pt')"
   ]
  },
  {
   "cell_type": "code",
   "execution_count": null,
   "metadata": {},
   "outputs": [],
   "source": []
  },
  {
   "cell_type": "code",
   "execution_count": null,
   "metadata": {},
   "outputs": [],
   "source": []
  }
 ],
 "metadata": {
  "kernelspec": {
   "display_name": "Python 3 (ipykernel)",
   "language": "python",
   "name": "python3"
  },
  "language_info": {
   "codemirror_mode": {
    "name": "ipython",
    "version": 3
   },
   "file_extension": ".py",
   "mimetype": "text/x-python",
   "name": "python",
   "nbconvert_exporter": "python",
   "pygments_lexer": "ipython3",
   "version": "3.9.16"
  }
 },
 "nbformat": 4,
 "nbformat_minor": 1
}
