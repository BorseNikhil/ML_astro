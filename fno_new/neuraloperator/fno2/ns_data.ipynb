{
 "cells": [
  {
   "cell_type": "code",
   "execution_count": 2,
   "id": "a7458031",
   "metadata": {},
   "outputs": [],
   "source": [
    "import torch\n",
    "\n",
    "import math\n",
    "\n",
    "from random_fields import GaussianRF\n",
    "\n",
    "from timeit import default_timer\n",
    "\n",
    "import scipy.io"
   ]
  },
  {
   "cell_type": "code",
   "execution_count": 3,
   "id": "b1dab837",
   "metadata": {},
   "outputs": [],
   "source": [
    "#w0: initial vorticity\n",
    "#f: forcing term\n",
    "#visc: viscosity (1/Re)\n",
    "#T: final time\n",
    "#delta_t: internal time-step for solve (descrease if blow-up)\n",
    "#record_steps: number of in-time snapshots to record"
   ]
  },
  {
   "cell_type": "code",
   "execution_count": 4,
   "id": "ed5619b1",
   "metadata": {},
   "outputs": [],
   "source": [
    "def navier_stokes_2d(w0, f, visc, T, delta_t=1e-4, record_steps=1):\n",
    "\n",
    "    #Grid size - must be power of 2\n",
    "    N = w0.size()[-1]\n",
    "\n",
    "    #Maximum frequency\n",
    "    k_max = math.floor(N/2.0)\n",
    "\n",
    "    #Number of steps to final time\n",
    "    steps = math.ceil(T/delta_t)\n",
    "\n",
    "    #Initial vorticity to Fourier space\n",
    "    w_h = torch.fft.rfft2(w0)\n",
    "\n",
    "    #Forcing to Fourier space\n",
    "    f_h = torch.fft.rfft2(f)\n",
    "\n",
    "    #If same forcing for the whole batch\n",
    "    if len(f_h.size()) < len(w_h.size()):\n",
    "        f_h = torch.unsqueeze(f_h, 0)\n",
    "\n",
    "    #Record solution every this number of steps\n",
    "    record_time = math.floor(steps/record_steps)\n",
    "\n",
    "    #Wavenumbers in y-direction\n",
    "    k_y = torch.cat((torch.arange(start=0, end=k_max, step=1, device=w0.device), torch.arange(start=-k_max, end=0, step=1, device=w0.device)), 0).repeat(N,1)\n",
    "    #Wavenumbers in x-direction\n",
    "    k_x = k_y.transpose(0,1)\n",
    "\n",
    "    #Truncate redundant modes\n",
    "    k_x = k_x[..., :k_max + 1]\n",
    "    k_y = k_y[..., :k_max + 1]\n",
    "\n",
    "    #Negative Laplacian in Fourier space\n",
    "    lap = 4*(math.pi**2)*(k_x**2 + k_y**2)\n",
    "    lap[0,0] = 1.0\n",
    "    #Dealiasing mask\n",
    "    dealias = torch.unsqueeze(torch.logical_and(torch.abs(k_y) <= (2.0/3.0)*k_max, torch.abs(k_x) <= (2.0/3.0)*k_max).float(), 0)\n",
    "\n",
    "    #Saving solution and time\n",
    "    sol = torch.zeros(*w0.size(), record_steps, device=w0.device)\n",
    "    sol_t = torch.zeros(record_steps, device=w0.device)\n",
    "\n",
    "    #Record counter\n",
    "    c = 0\n",
    "    #Physical time\n",
    "    t = 0.0\n",
    "    for j in range(steps):\n",
    "        #Stream function in Fourier space: solve Poisson equation\n",
    "        psi_h = w_h / lap\n",
    "\n",
    "        #Velocity field in x-direction = psi_y\n",
    "        q = 2. * math.pi * k_y * 1j * psi_h\n",
    "        q = torch.fft.irfft2(q, s=(N, N))\n",
    "\n",
    "        #Velocity field in y-direction = -psi_x\n",
    "        v = -2. * math.pi * k_x * 1j * psi_h\n",
    "        v = torch.fft.irfft2(v, s=(N, N))\n",
    "\n",
    "        #Partial x of vorticity\n",
    "        w_x = 2. * math.pi * k_x * 1j * w_h\n",
    "        w_x = torch.fft.irfft2(w_x, s=(N, N))\n",
    "\n",
    "        #Partial y of vorticity\n",
    "        w_y = 2. * math.pi * k_y * 1j * w_h\n",
    "        w_y = torch.fft.irfft2(w_y, s=(N, N))\n",
    "\n",
    "        #Non-linear term (u.grad(w)): compute in physical space then back to Fourier space\n",
    "        F_h = torch.fft.rfft2(q*w_x + v*w_y)\n",
    "\n",
    "        #Dealias\n",
    "        F_h = dealias* F_h\n",
    "\n",
    "        #Crank-Nicolson update\n",
    "        w_h = (-delta_t*F_h + delta_t*f_h + (1.0 - 0.5*delta_t*visc*lap)*w_h)/(1.0 + 0.5*delta_t*visc*lap)\n",
    "\n",
    "        #Update real time (used only for recording)\n",
    "        t += delta_t\n",
    "\n",
    "        if (j+1) % record_time == 0:\n",
    "            #Solution in physical space\n",
    "            w = torch.fft.irfft2(w_h, s=(N, N))\n",
    "\n",
    "            #Record solution and time\n",
    "            sol[...,c] = w\n",
    "            sol_t[c] = t\n",
    "\n",
    "            c += 1\n",
    "\n",
    "\n",
    "    return sol, sol_t"
   ]
  },
  {
   "cell_type": "code",
   "execution_count": 60,
   "id": "390eacd8",
   "metadata": {},
   "outputs": [],
   "source": [
    "device = torch.device('cpu')\n",
    "\n",
    "#Resolution\n",
    "s = 64\n",
    "\n",
    "#Number of solutions to generate\n",
    "N = 20\n"
   ]
  },
  {
   "cell_type": "code",
   "execution_count": 61,
   "id": "8767e033",
   "metadata": {},
   "outputs": [],
   "source": [
    "#torch.cuda.is_available()"
   ]
  },
  {
   "cell_type": "code",
   "execution_count": 62,
   "id": "1aeb9a98",
   "metadata": {},
   "outputs": [],
   "source": [
    "\n",
    "#Set up 2d GRF with covariance parameters\n",
    "GRF = GaussianRF(2, s, alpha=2.5, tau=7, device=device)\n",
    "\n"
   ]
  },
  {
   "cell_type": "code",
   "execution_count": 63,
   "id": "7221e074",
   "metadata": {},
   "outputs": [],
   "source": [
    "#Forcing function: 0.1*(sin(2pi(x+y)) + cos(2pi(x+y)))\n",
    "t = torch.linspace(0, 1, s+1, device=device)\n",
    "t = t[0:-1]\n",
    "\n",
    "X,Y = torch.meshgrid(t, t, indexing='ij')\n",
    "f = 0.1*(torch.sin(2*math.pi*(X + Y)) + torch.cos(2*math.pi*(X + Y)))\n",
    "\n",
    "#Number of snapshots from solution\n",
    "record_steps = 200\n",
    "\n",
    "#Inputs\n",
    "a = torch.zeros(N, s, s)\n",
    "#Solutions\n",
    "u = torch.zeros(N, s, s, record_steps)\n",
    "\n",
    "#Solve equations in batches (order of magnitude speed-up)\n",
    "\n",
    "#Batch size\n",
    "bsize = 20"
   ]
  },
  {
   "cell_type": "code",
   "execution_count": 64,
   "id": "b4e7dcfe",
   "metadata": {},
   "outputs": [
    {
     "name": "stdout",
     "output_type": "stream",
     "text": [
      "0 20 521.3203651850054\n"
     ]
    }
   ],
   "source": [
    "c = 0\n",
    "t0 =default_timer()\n",
    "for j in range(N//bsize):\n",
    "\n",
    "    #Sample random feilds\n",
    "    w0 = GRF.sample(bsize)\n",
    "\n",
    "    #Solve NS\n",
    "    sol, sol_t = navier_stokes_2d(w0, f, 1e-3, 50.0, 1e-4, record_steps)\n",
    "\n",
    "    a[c:(c+bsize),...] = w0\n",
    "    u[c:(c+bsize),...] = sol\n",
    "\n",
    "    c += bsize\n",
    "    t1 = default_timer()\n",
    "    print(j, c, t1-t0)"
   ]
  },
  {
   "cell_type": "code",
   "execution_count": 65,
   "id": "443176ed",
   "metadata": {},
   "outputs": [],
   "source": [
    "scipy.io.savemat('ns_data.mat', mdict={'a': a.cpu().numpy(), 'u': u.cpu().numpy(), 't': sol_t.cpu().numpy()})"
   ]
  },
  {
   "cell_type": "code",
   "execution_count": null,
   "id": "7619f604",
   "metadata": {},
   "outputs": [],
   "source": []
  }
 ],
 "metadata": {
  "kernelspec": {
   "display_name": "Python 3 (ipykernel)",
   "language": "python",
   "name": "python3"
  },
  "language_info": {
   "codemirror_mode": {
    "name": "ipython",
    "version": 3
   },
   "file_extension": ".py",
   "mimetype": "text/x-python",
   "name": "python",
   "nbconvert_exporter": "python",
   "pygments_lexer": "ipython3",
   "version": "3.9.16"
  }
 },
 "nbformat": 4,
 "nbformat_minor": 5
}
